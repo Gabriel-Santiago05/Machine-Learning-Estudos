{
 "cells": [
  {
   "cell_type": "code",
   "execution_count": 1,
   "metadata": {},
   "outputs": [],
   "source": [
    "# -*- coding: utf-8 -*-\n",
    "### EXEMPLO DA AULA\n",
    "### Data: 05-08-2020\n",
    "### By: Gabriel Santiago"
   ]
  },
  {
   "cell_type": "code",
   "execution_count": 2,
   "metadata": {},
   "outputs": [],
   "source": [
    "import pandas as pd\n",
    "\n",
    "dataset = pd.read_csv('../00_datasets/census.csv')"
   ]
  },
  {
   "cell_type": "code",
   "execution_count": 3,
   "metadata": {},
   "outputs": [],
   "source": [
    "previsores = dataset.iloc[ :, 0:14 ].values\n",
    "classe = dataset.iloc[ :, 14 ].values"
   ]
  },
  {
   "cell_type": "code",
   "execution_count": 5,
   "metadata": {},
   "outputs": [],
   "source": [
    "from sklearn.preprocessing import LabelEncoder\n",
    "\n",
    "label_encoder = LabelEncoder()\n",
    "previsores[:, 1] = label_encoder.fit_transform(previsores[:, 1])\n",
    "previsores[:, 3] = label_encoder.fit_transform(previsores[:, 3])\n",
    "previsores[:, 5] = label_encoder.fit_transform(previsores[:, 5])\n",
    "previsores[:, 6] = label_encoder.fit_transform(previsores[:, 6])\n",
    "previsores[:, 7] = label_encoder.fit_transform(previsores[:, 7])\n",
    "previsores[:, 8] = label_encoder.fit_transform(previsores[:, 8])\n",
    "previsores[:, 9] = label_encoder.fit_transform(previsores[:, 9])\n",
    "previsores[:, 13] = label_encoder.fit_transform(previsores[:, 13])"
   ]
  },
  {
   "cell_type": "code",
   "execution_count": 6,
   "metadata": {},
   "outputs": [],
   "source": [
    "#atributos catagóricos: [1, 3, 5, 6, 7, 8, 9, 13]\n",
    "from sklearn.preprocessing import OneHotEncoder\n",
    "from sklearn.compose import ColumnTransformer\n",
    "\n",
    "one_hot_encoder = ColumnTransformer( [ (\"OneHotEncoder\", OneHotEncoder(), [1, 3, 5, 6, 7, 8, 9, 13]) ], remainder='passthrough' )\n",
    "previsores = one_hot_encoder.fit_transform(previsores).toarray()"
   ]
  },
  {
   "cell_type": "code",
   "execution_count": 7,
   "metadata": {},
   "outputs": [],
   "source": [
    "## Aplicando a padronização:\n",
    "from sklearn.preprocessing import StandardScaler\n",
    "\n",
    "scaler = StandardScaler()\n",
    "previsores = scaler.fit_transform( previsores )"
   ]
  },
  {
   "cell_type": "code",
   "execution_count": 8,
   "metadata": {},
   "outputs": [],
   "source": [
    "from sklearn.model_selection import train_test_split\n",
    "previsores_treinamento, previsores_teste, classe_treinamento, classe_teste = train_test_split(previsores, classe, test_size=0.15, random_state=0)"
   ]
  },
  {
   "cell_type": "code",
   "execution_count": 10,
   "metadata": {},
   "outputs": [],
   "source": [
    "from sklearn.svm import SVC\n",
    "\n",
    "classificador = SVC( kernel='linear', random_state=1 )\n",
    "classificador.fit( previsores_treinamento, classe_treinamento )\n",
    "previsoes = classificador.predict( previsores_teste )"
   ]
  },
  {
   "cell_type": "code",
   "execution_count": 12,
   "metadata": {},
   "outputs": [
    {
     "data": {
      "text/plain": [
       "0.8507676560900717"
      ]
     },
     "execution_count": 12,
     "metadata": {},
     "output_type": "execute_result"
    }
   ],
   "source": [
    "from sklearn.metrics import accuracy_score\n",
    "\n",
    "accuracy = accuracy_score(classe_teste, previsoes)\n",
    "accuracy"
   ]
  }
 ],
 "metadata": {
  "kernelspec": {
   "display_name": "Python 3",
   "language": "python",
   "name": "python3"
  },
  "language_info": {
   "codemirror_mode": {
    "name": "ipython",
    "version": 3
   },
   "file_extension": ".py",
   "mimetype": "text/x-python",
   "name": "python",
   "nbconvert_exporter": "python",
   "pygments_lexer": "ipython3",
   "version": "3.8.3"
  }
 },
 "nbformat": 4,
 "nbformat_minor": 4
}
