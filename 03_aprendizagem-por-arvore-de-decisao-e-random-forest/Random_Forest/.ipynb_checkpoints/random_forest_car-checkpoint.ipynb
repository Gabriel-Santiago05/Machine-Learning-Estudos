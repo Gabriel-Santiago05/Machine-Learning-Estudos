{
 "cells": [
  {
   "cell_type": "code",
   "execution_count": 1,
   "metadata": {},
   "outputs": [],
   "source": [
    "# -*- coding: utf-8 -*-\n",
    "########### Banco de dados aleatório usado para prática.\n",
    "### By: Gabriel Santiago\n",
    "### Data: 16-07-2020\n",
    "### Algorítimo: Random Forest \n",
    "### Base de dados: car.data\n",
    "### Base de dados para estudo fornecida por: archive.ics.uci.edu\n",
    "### Objetivo: baseado em um histórico de dados, predizer o nível de aceitação de um determinado modelo de carro. \n",
    "### Você pode obter uma descrição sobre cada um dos atributos no arquivo 'car.data' situado na pasta 00_daatasets"
   ]
  },
  {
   "cell_type": "code",
   "execution_count": 2,
   "metadata": {},
   "outputs": [],
   "source": [
    "import pandas as pd\n",
    "\n",
    "dataset = pd.read_csv('../../00_datasets/car.data')"
   ]
  },
  {
   "cell_type": "code",
   "execution_count": 3,
   "metadata": {},
   "outputs": [],
   "source": [
    "previsores = dataset.iloc[:, 0:6].values\n",
    "classe = dataset.iloc[:, 6].values"
   ]
  },
  {
   "cell_type": "code",
   "execution_count": 4,
   "metadata": {},
   "outputs": [],
   "source": [
    "from sklearn.preprocessing import LabelEncoder\n",
    "encoder = LabelEncoder()\n",
    "\n",
    "previsores[:, 0] = encoder.fit_transform( previsores[:, 0] )\n",
    "previsores[:, 1] = encoder.fit_transform( previsores[:, 1] )\n",
    "previsores[:, 2] = encoder.fit_transform( previsores[:, 2] )\n",
    "previsores[:, 3] = encoder.fit_transform( previsores[:, 3] )\n",
    "previsores[:, 4] = encoder.fit_transform( previsores[:, 4] )\n",
    "previsores[:, 5] = encoder.fit_transform( previsores[:, 5] )\n",
    "\n",
    "from sklearn.preprocessing import StandardScaler\n",
    "scaler = StandardScaler()\n",
    "previsores = scaler.fit_transform(previsores)"
   ]
  },
  {
   "cell_type": "code",
   "execution_count": 5,
   "metadata": {},
   "outputs": [],
   "source": [
    "from sklearn.model_selection import train_test_split\n",
    "\n",
    "previsores_treinamento, previsores_teste, classe_treinamento, classe_teste = train_test_split(previsores, classe, test_size=0.25, random_state=0) "
   ]
  },
  {
   "cell_type": "code",
   "execution_count": 6,
   "metadata": {},
   "outputs": [],
   "source": [
    "from sklearn.ensemble import RandomForestClassifier\n",
    "\n",
    "classificador = RandomForestClassifier(n_estimators=70 ,criterion='entropy' ,random_state=0)\n",
    "classificador.fit(previsores_treinamento, classe_treinamento)\n",
    "\n",
    "previsoes = classificador.predict( previsores_teste )"
   ]
  },
  {
   "cell_type": "code",
   "execution_count": 7,
   "metadata": {},
   "outputs": [
    {
     "data": {
      "text/plain": [
       "0.9745370370370371"
      ]
     },
     "execution_count": 7,
     "metadata": {},
     "output_type": "execute_result"
    }
   ],
   "source": [
    "from sklearn.metrics import accuracy_score\n",
    "accuracy = accuracy_score(classe_teste, previsoes)\n",
    "accuracy"
   ]
  },
  {
   "cell_type": "code",
   "execution_count": 9,
   "metadata": {},
   "outputs": [],
   "source": [
    "### Pré-processamentos e suas precisões:\n",
    "## DecisionTree( OneHotEncoder ) = 0.9629629629629629\n",
    "## DecisionTree( OneHotEncoder + StandardScaler ) = 0.9629629629629629\n",
    "\n",
    "## DecisionTree( n_estimators=70 + LabelEncoder ) = 0.9722222222222222\n",
    "## DecisionTree( n_estimators=70 + LabelEncoder  + StandardScaler) = 0.9745370370370371"
   ]
  },
  {
   "cell_type": "code",
   "execution_count": null,
   "metadata": {},
   "outputs": [],
   "source": [
    "### Conclusões:\n",
    "## Random Forest não obteve um resultado tão satisfatório quando a Decision Tree. \n",
    "## A Decision Tree conseguiu uma maior accuracy(0.9814814814814815) com menos pré_processamentos e em muito menos passos,\n",
    "# visto que para conseguir um resultado comparável com a Decision Tree a Random Forest precisou de 70 leafs."
   ]
  }
 ],
 "metadata": {
  "kernelspec": {
   "display_name": "Python 3",
   "language": "python",
   "name": "python3"
  },
  "language_info": {
   "codemirror_mode": {
    "name": "ipython",
    "version": 3
   },
   "file_extension": ".py",
   "mimetype": "text/x-python",
   "name": "python",
   "nbconvert_exporter": "python",
   "pygments_lexer": "ipython3",
   "version": "3.7.6"
  }
 },
 "nbformat": 4,
 "nbformat_minor": 4
}
