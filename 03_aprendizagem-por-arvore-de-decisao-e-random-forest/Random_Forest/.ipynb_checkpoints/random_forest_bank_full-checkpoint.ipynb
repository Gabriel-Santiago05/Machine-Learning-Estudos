{
 "cells": [
  {
   "cell_type": "code",
   "execution_count": 1,
   "metadata": {},
   "outputs": [],
   "source": [
    "# -*- coding: utf-8 -*-\n",
    "########### Banco de dados aleatório usado para prática.\n",
    "### By: Gabriel Santiago\n",
    "### Data: 08-07-2020\n",
    "### Algorítimo: Árvore de Decisão\n",
    "### Base de dados: bakn-full. Base de cadastro dos clientes de um banco. \n",
    "### Base de dados para estudo fornecida por: archive.ics.uci.edu\n",
    "### Objetivo: baseado em um histórico de dados, predizer se um cliente irá ou não assinar um depósito a prazo.\n",
    "### Você pode obter uma descrição sobre cada um dos atributos no arquivo 'descricao_bank_full.txt' situado na pasta 00_daatasets"
   ]
  },
  {
   "cell_type": "code",
   "execution_count": 3,
   "metadata": {},
   "outputs": [],
   "source": [
    "import pandas as pd\n",
    "\n",
    "base = pd.read_csv('../../00_datasets/bank-full.csv')"
   ]
  },
  {
   "cell_type": "code",
   "execution_count": 4,
   "metadata": {},
   "outputs": [],
   "source": [
    "## Separando previsores da classe:\n",
    "previsores = base.iloc[:, 0:16].values\n",
    "classe = base.iloc[:, 16].values"
   ]
  },
  {
   "cell_type": "code",
   "execution_count": 5,
   "metadata": {},
   "outputs": [],
   "source": [
    "\"\"\"\n",
    "## Aplicando o labelEncoder:\n",
    "from sklearn.preprocessing import LabelEncoder\n",
    "\n",
    "label_encoder = LabelEncoder()\n",
    "previsores[:, 1] = label_encoder.fit_transform( previsores[:, 1] )\n",
    "previsores[:, 2] = label_encoder.fit_transform( previsores[:, 2] )\n",
    "previsores[:, 3] = label_encoder.fit_transform( previsores[:, 3] )\n",
    "previsores[:, 4] = label_encoder.fit_transform( previsores[:, 4] )\n",
    "previsores[:, 6] = label_encoder.fit_transform( previsores[:, 6] )\n",
    "previsores[:, 7] = label_encoder.fit_transform( previsores[:, 7] )\n",
    "previsores[:, 8] = label_encoder.fit_transform( previsores[:, 8] )\n",
    "previsores[:, 10] = label_encoder.fit_transform( previsores[:, 10] )\n",
    "previsores[:, 15] = label_encoder.fit_transform( previsores[:, 15] )\n",
    "\"\"\"\n",
    "### Aplicando o OneHotEncoder:\n",
    "from sklearn.preprocessing import OneHotEncoder, LabelEncoder\n",
    "from sklearn.compose import ColumnTransformer\n",
    " \n",
    "onehotencorder = ColumnTransformer(transformers=[(\"OneHot\", OneHotEncoder(), [1,2,3,4,6,7,8,10,15])],remainder='passthrough')\n",
    "previsores = onehotencorder.fit_transform(previsores)"
   ]
  },
  {
   "cell_type": "code",
   "execution_count": 6,
   "metadata": {},
   "outputs": [],
   "source": [
    "# escalonamento\n",
    "#from sklearn.preprocessing import StandardScaler\n",
    "\n",
    "#scaler = StandardScaler()\n",
    "#previsores = scaler.fit_transform( previsores )"
   ]
  },
  {
   "cell_type": "code",
   "execution_count": 7,
   "metadata": {},
   "outputs": [],
   "source": [
    "## Separando as bases entre treinamento e testes:\n",
    "from sklearn.model_selection import train_test_split\n",
    "\n",
    "previsores_treinamento, previsores_teste, classe_treinamento, classe_teste = train_test_split(previsores, classe, test_size=0.15, random_state=0)"
   ]
  },
  {
   "cell_type": "code",
   "execution_count": 8,
   "metadata": {},
   "outputs": [],
   "source": [
    "## Criando a árvore de decisões:\n",
    "from sklearn.ensemble import RandomForestClassifier\n",
    "\n",
    "classificador = RandomForestClassifier( n_estimators=30 ,criterion='entropy',random_state=0 )\n",
    "classificador.fit(previsores_treinamento, classe_treinamento)\n",
    "\n",
    "previsoes = classificador.predict( previsores_teste )"
   ]
  },
  {
   "cell_type": "code",
   "execution_count": 9,
   "metadata": {},
   "outputs": [
    {
     "name": "stdout",
     "output_type": "stream",
     "text": [
      "A precisão do algorítimo foi de: 0.9069595989383663\n"
     ]
    }
   ],
   "source": [
    "## Avaliando o algorítimo:\n",
    "from sklearn.metrics import accuracy_score, confusion_matrix\n",
    "\n",
    "precisao = accuracy_score( classe_teste, previsoes )\n",
    "print(f'A precisão do algorítimo foi de: {precisao}')"
   ]
  }
 ],
 "metadata": {
  "kernelspec": {
   "display_name": "Python 3",
   "language": "python",
   "name": "python3"
  },
  "language_info": {
   "codemirror_mode": {
    "name": "ipython",
    "version": 3
   },
   "file_extension": ".py",
   "mimetype": "text/x-python",
   "name": "python",
   "nbconvert_exporter": "python",
   "pygments_lexer": "ipython3",
   "version": "3.7.6"
  }
 },
 "nbformat": 4,
 "nbformat_minor": 4
}
