{
 "cells": [
  {
   "cell_type": "code",
   "execution_count": 1,
   "metadata": {},
   "outputs": [],
   "source": [
    "# -*- coding: utf-8 -*-\n",
    "### EXEMPLO DA AULA:\n",
    "### Data: 07/07/2020\n",
    "### By: Gabriel Santiago"
   ]
  },
  {
   "cell_type": "code",
   "execution_count": 2,
   "metadata": {},
   "outputs": [],
   "source": [
    "import pandas as pd\n",
    "\n",
    "base = pd.read_csv('../credit_data.csv')"
   ]
  },
  {
   "cell_type": "code",
   "execution_count": 3,
   "metadata": {},
   "outputs": [],
   "source": [
    "## Substituindo os valores negativos da coluna idades pela media das idades (sem levar em consideração as idades negativas):\n",
    "media = base['age'][base['age'] > 0].mean()\n",
    "base.loc[ base.age < 0, 'age' ] = media"
   ]
  },
  {
   "cell_type": "code",
   "execution_count": 4,
   "metadata": {},
   "outputs": [],
   "source": [
    "## Separando previsores da classe:\n",
    "previsores = base.iloc[: , 1:4].values\n",
    "classe = base.iloc[:, 4].values"
   ]
  },
  {
   "cell_type": "code",
   "execution_count": 5,
   "metadata": {},
   "outputs": [],
   "source": [
    "## Preenchendo os valores vazios da coluna idade:\n",
    "from sklearn.impute import SimpleImputer\n",
    "import numpy as np\n",
    "\n",
    "simple_imputer = SimpleImputer(missing_values= np.nan, strategy= 'mean')\n",
    "simple_imputer = simple_imputer.fit( previsores[:, 0:3] )\n",
    "\n",
    "previsores[:, 0:3] = simple_imputer.transform( previsores[:, 0:3] )"
   ]
  },
  {
   "cell_type": "code",
   "execution_count": 6,
   "metadata": {},
   "outputs": [
    {
     "data": {
      "text/plain": [
       "'\\n## Padronizando os dados:\\nfrom sklearn.preprocessing import StandardScaler\\n\\nscaler = StandardScaler()\\nprevisores = scaler.fit_transform( previsores )\\n'"
      ]
     },
     "execution_count": 6,
     "metadata": {},
     "output_type": "execute_result"
    }
   ],
   "source": [
    "# Após alguns testes meus, constatei que esse processamento feito pelo professor era desnecessário.\n",
    "## Constatei também que esse processamento reduzia a precisão do algorítimo em 0.2%\n",
    "\"\"\"\n",
    "## Padronizando os dados:\n",
    "from sklearn.preprocessing import StandardScaler\n",
    "\n",
    "scaler = StandardScaler()\n",
    "previsores = scaler.fit_transform( previsores )\n",
    "\"\"\""
   ]
  },
  {
   "cell_type": "code",
   "execution_count": 7,
   "metadata": {},
   "outputs": [],
   "source": [
    "## Separando base para treinamentos de base para teste:\n",
    "from sklearn.model_selection import train_test_split\n",
    "\n",
    "previsores_treinamento, previsores_teste, classe_treinamento, classe_teste = train_test_split( previsores, classe, \n",
    "                                                                                             test_size = 0.25,\n",
    "                                                                                             random_state = 0)"
   ]
  },
  {
   "cell_type": "code",
   "execution_count": 8,
   "metadata": {},
   "outputs": [],
   "source": [
    "## Aplicando árvore de decisão:\n",
    "from sklearn.tree import DecisionTreeClassifier\n",
    "\n",
    "classificador = DecisionTreeClassifier( criterion = 'entropy', random_state=0 )\n",
    "classificador.fit(previsores_treinamento, classe_treinamento)\n",
    "\n",
    "previsoes = classificador.predict(previsores_teste)"
   ]
  },
  {
   "cell_type": "code",
   "execution_count": 9,
   "metadata": {},
   "outputs": [],
   "source": [
    "## Avaliando o algorítimo:\n",
    "from sklearn.metrics import accuracy_score, confusion_matrix \n",
    "\n",
    "precisao = accuracy_score(classe_teste, previsoes)\n",
    "matriz = confusion_matrix(classe_teste, previsoes)"
   ]
  },
  {
   "cell_type": "code",
   "execution_count": 10,
   "metadata": {},
   "outputs": [
    {
     "name": "stdout",
     "output_type": "stream",
     "text": [
      "A precisão atingida pelo algorítimo \"Árvore de decisão\" foi de: 98.2%\n",
      "A precisão atingida pelo algorítimo \"Naive Bayes\" foi de: 93,8%\n"
     ]
    }
   ],
   "source": [
    "print( f'A precisão atingida pelo algorítimo \"Árvore de decisão\" foi de: {precisao*100}%' )\n",
    "print( f'A precisão atingida pelo algorítimo \"Naive Bayes\" foi de: 93,8%' )"
   ]
  },
  {
   "cell_type": "code",
   "execution_count": null,
   "metadata": {},
   "outputs": [],
   "source": []
  },
  {
   "cell_type": "code",
   "execution_count": null,
   "metadata": {},
   "outputs": [],
   "source": []
  },
  {
   "cell_type": "code",
   "execution_count": null,
   "metadata": {},
   "outputs": [],
   "source": []
  }
 ],
 "metadata": {
  "kernelspec": {
   "display_name": "Python 3",
   "language": "python",
   "name": "python3"
  },
  "language_info": {
   "codemirror_mode": {
    "name": "ipython",
    "version": 3
   },
   "file_extension": ".py",
   "mimetype": "text/x-python",
   "name": "python",
   "nbconvert_exporter": "python",
   "pygments_lexer": "ipython3",
   "version": "3.7.6"
  }
 },
 "nbformat": 4,
 "nbformat_minor": 4
}
