{
 "cells": [
  {
   "cell_type": "code",
   "execution_count": 1,
   "metadata": {},
   "outputs": [],
   "source": [
    "# -*- coding: utf-8 -*-\n",
    "### EXEMPLO DA AULA:\n",
    "### By: Gabriel Santiago\n",
    "### Data: 07/07/2020\n",
    "### Algorítimo: Árvore de Decisão"
   ]
  },
  {
   "cell_type": "code",
   "execution_count": 2,
   "metadata": {},
   "outputs": [],
   "source": [
    "import pandas as pd\n",
    "\n",
    "base = pd.read_csv('../../00_datasets/census.csv')"
   ]
  },
  {
   "cell_type": "code",
   "execution_count": 3,
   "metadata": {},
   "outputs": [],
   "source": [
    "## Separando previsores da classe:\n",
    "\n",
    "previsores = base.iloc[:, 0:14].values\n",
    "classe = base.iloc[:, 14].values"
   ]
  },
  {
   "cell_type": "code",
   "execution_count": 4,
   "metadata": {},
   "outputs": [],
   "source": [
    "## Aplicando o LabelEncoder para substituir os atributos categóricos:\n",
    "from sklearn.preprocessing import LabelEncoder\n",
    "\n",
    "label_encoder = LabelEncoder()\n",
    "\n",
    "previsores[:, 1] = label_encoder.fit_transform( previsores[:, 1] )\n",
    "previsores[:, 3] = label_encoder.fit_transform( previsores[:, 3] )\n",
    "previsores[:, 5] = label_encoder.fit_transform( previsores[:, 5] )\n",
    "previsores[:, 6] = label_encoder.fit_transform( previsores[:, 6] )\n",
    "previsores[:, 7] = label_encoder.fit_transform( previsores[:, 7] )\n",
    "previsores[:, 8] = label_encoder.fit_transform( previsores[:, 8] )\n",
    "previsores[:, 9] = label_encoder.fit_transform( previsores[:, 9] )\n",
    "previsores[:, 13] = label_encoder.fit_transform( previsores[:, 13] )\n"
   ]
  },
  {
   "cell_type": "code",
   "execution_count": 6,
   "metadata": {},
   "outputs": [],
   "source": [
    "## Dividindo a base entre testes e treinamento:\n",
    "from sklearn.model_selection import train_test_split\n",
    "\n",
    "previsores_treinamento, previsores_teste, classe_treinamento, classe_teste = train_test_split( previsores,\n",
    "                                                                                              classe,\n",
    "                                                                                              test_size = 0.15,\n",
    "                                                                                              random_state = 0)"
   ]
  },
  {
   "cell_type": "code",
   "execution_count": 7,
   "metadata": {},
   "outputs": [],
   "source": [
    "## Aplicando o algorítimo de Árvore de Decisão:\n",
    "from sklearn.tree import DecisionTreeClassifier\n",
    "\n",
    "classificador = DecisionTreeClassifier( criterion='entropy', random_state=0 )\n",
    "classificador.fit(previsores_treinamento, classe_treinamento)\n",
    "\n",
    "previsoes = classificador.predict(previsores_teste)"
   ]
  },
  {
   "cell_type": "code",
   "execution_count": 8,
   "metadata": {},
   "outputs": [
    {
     "data": {
      "text/plain": [
       "0.8128966223132037"
      ]
     },
     "execution_count": 8,
     "metadata": {},
     "output_type": "execute_result"
    }
   ],
   "source": [
    "## Avaliando o algorítimo:\n",
    "from sklearn.metrics import accuracy_score, confusion_matrix\n",
    "\n",
    "accuracy = accuracy_score( classe_teste, previsoes )\n",
    "accuracy"
   ]
  }
 ],
 "metadata": {
  "kernelspec": {
   "display_name": "Python 3",
   "language": "python",
   "name": "python3"
  },
  "language_info": {
   "codemirror_mode": {
    "name": "ipython",
    "version": 3
   },
   "file_extension": ".py",
   "mimetype": "text/x-python",
   "name": "python",
   "nbconvert_exporter": "python",
   "pygments_lexer": "ipython3",
   "version": "3.7.6"
  }
 },
 "nbformat": 4,
 "nbformat_minor": 4
}
