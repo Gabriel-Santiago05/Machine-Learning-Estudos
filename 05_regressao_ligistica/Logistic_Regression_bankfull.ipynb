{
 "cells": [
  {
   "cell_type": "code",
   "execution_count": 1,
   "metadata": {},
   "outputs": [],
   "source": [
    "# -*- coding: utf-8 -*-\n",
    "########### Banco de dados aleatório usado para prática.\n",
    "### By: Gabriel Santiago\n",
    "### Data: 03/08/2020\n",
    "### Algoritmo: Regressão Logística\n",
    "### Base de dados: banl-full.csv\n",
    "### Objetivo: baseado em um histórico de dados, predizer se um cliente irá ou não assinar um depósito a prazo.\n",
    "### Base de dados para estudo fornecida por: archive.ics.uci.edu\n",
    "### Você pode obter uma descrição sobre cada um dos atributos no arquivo 'descricao_bank_full' situado na pasta 00_daatasets"
   ]
  },
  {
   "cell_type": "code",
   "execution_count": 2,
   "metadata": {},
   "outputs": [],
   "source": [
    "import pandas as pd\n",
    "\n",
    "dataset = pd.read_csv('../00_datasets/bank-full.csv')"
   ]
  },
  {
   "cell_type": "code",
   "execution_count": 3,
   "metadata": {},
   "outputs": [],
   "source": [
    "# atributos categóricos: [0, 1, 2, 3, 4, 6, 7, 8, 10, 15]"
   ]
  },
  {
   "cell_type": "code",
   "execution_count": 4,
   "metadata": {},
   "outputs": [],
   "source": [
    "previsores = dataset.iloc[ :,  0:16].values\n",
    "classe = dataset.iloc[ :, 16 ].values"
   ]
  },
  {
   "cell_type": "code",
   "execution_count": 5,
   "metadata": {},
   "outputs": [],
   "source": [
    "from sklearn.preprocessing import LabelEncoder\n",
    "\n",
    "label_encoder = LabelEncoder()\n",
    "previsores[:, 0] = label_encoder.fit_transform(previsores[:, 0])\n",
    "previsores[:, 1] = label_encoder.fit_transform(previsores[:, 1])\n",
    "previsores[:, 2] = label_encoder.fit_transform(previsores[:, 2])\n",
    "previsores[:, 3] = label_encoder.fit_transform(previsores[:, 3])\n",
    "previsores[:, 4] = label_encoder.fit_transform(previsores[:, 4])\n",
    "previsores[:, 6] = label_encoder.fit_transform(previsores[:, 6])\n",
    "previsores[:, 7] = label_encoder.fit_transform(previsores[:, 7])\n",
    "previsores[:, 8] = label_encoder.fit_transform(previsores[:, 8])\n",
    "previsores[:, 10] = label_encoder.fit_transform(previsores[:, 10])\n",
    "previsores[:, 15] = label_encoder.fit_transform(previsores[:, 15])"
   ]
  },
  {
   "cell_type": "code",
   "execution_count": 6,
   "metadata": {},
   "outputs": [],
   "source": [
    "from sklearn.preprocessing import OneHotEncoder\n",
    "from sklearn.compose import ColumnTransformer\n",
    "\n",
    "one_hot_encoder = ColumnTransformer( [ (\"OneHotEncoder\", OneHotEncoder(), [0, 1, 2, 3, 4, 6, 7, 8, 10, 15]) ], remainder='passthrough' )\n",
    "previsores = one_hot_encoder.fit_transform(previsores).toarray()"
   ]
  },
  {
   "cell_type": "code",
   "execution_count": 7,
   "metadata": {},
   "outputs": [],
   "source": [
    "from sklearn.preprocessing import StandardScaler\n",
    "\n",
    "scaler = StandardScaler()\n",
    "previsores = scaler.fit_transform(previsores)"
   ]
  },
  {
   "cell_type": "code",
   "execution_count": 8,
   "metadata": {},
   "outputs": [],
   "source": [
    "from sklearn.model_selection import train_test_split\n",
    "\n",
    "previsores_treinamento, previsores_teste, classe_treinamento, classe_teste = train_test_split( previsores, classe, test_size=0.25, random_state=0 )"
   ]
  },
  {
   "cell_type": "code",
   "execution_count": 9,
   "metadata": {},
   "outputs": [],
   "source": [
    "from sklearn.linear_model import LogisticRegression\n",
    "\n",
    "classificador = LogisticRegression(solver='lbfgs')\n",
    "classificador.fit(previsores_treinamento, classe_treinamento)\n",
    "previsoes = classificador.predict(previsores_teste)"
   ]
  },
  {
   "cell_type": "code",
   "execution_count": 10,
   "metadata": {},
   "outputs": [
    {
     "data": {
      "text/plain": [
       "0.9009112624966823"
      ]
     },
     "execution_count": 10,
     "metadata": {},
     "output_type": "execute_result"
    }
   ],
   "source": [
    "from sklearn.metrics import accuracy_score\n",
    "\n",
    "accuracy = accuracy_score( classe_teste, previsoes )\n",
    "accuracy"
   ]
  },
  {
   "cell_type": "code",
   "execution_count": null,
   "metadata": {},
   "outputs": [],
   "source": []
  }
 ],
 "metadata": {
  "kernelspec": {
   "display_name": "Python 3",
   "language": "python",
   "name": "python3"
  },
  "language_info": {
   "codemirror_mode": {
    "name": "ipython",
    "version": 3
   },
   "file_extension": ".py",
   "mimetype": "text/x-python",
   "name": "python",
   "nbconvert_exporter": "python",
   "pygments_lexer": "ipython3",
   "version": "3.8.3"
  }
 },
 "nbformat": 4,
 "nbformat_minor": 4
}
