{
 "cells": [
  {
   "cell_type": "code",
   "execution_count": 1,
   "metadata": {},
   "outputs": [],
   "source": [
    "# -*- coding: utf-8 -*-\n",
    "########### Banco de dados aleatório usado para prática.\n",
    "### By: Gabriel Santiago\n",
    "### Data: 16-07-2020\n",
    "### ALgoritmo: Naive Bayes \n",
    "### Base de dados: car.data\n",
    "### Base de dados para estudo fornecida por: archive.ics.uci.edu\n",
    "### Objetivo: baseado em um histórico de dados, predizer o nível de aceitação de um determinado modelo de carro. \n",
    "### Você pode obter uma descrição sobre cada um dos atributos no arquivo 'car.data' situado na pasta 00_daatasets"
   ]
  },
  {
   "cell_type": "code",
   "execution_count": 2,
   "metadata": {},
   "outputs": [],
   "source": [
    "import pandas as pd\n",
    "\n",
    "dataset = pd.read_csv('../00_datasets/car.data')"
   ]
  },
  {
   "cell_type": "code",
   "execution_count": 3,
   "metadata": {},
   "outputs": [],
   "source": [
    "previsores = dataset.iloc[:, 0:6].values\n",
    "classe = dataset.iloc[:, 6].values"
   ]
  },
  {
   "cell_type": "code",
   "execution_count": 4,
   "metadata": {},
   "outputs": [],
   "source": [
    "from sklearn.preprocessing import OneHotEncoder\n",
    "from sklearn.compose import ColumnTransformer\n",
    "\n",
    "one_hot_encoder = ColumnTransformer( transformers=[(\"OneHot\", OneHotEncoder(), [0, 1, 2, 3, 4, 5])], remainder='passthrough' )\n",
    "previsores = one_hot_encoder.fit_transform(previsores).toarray()"
   ]
  },
  {
   "cell_type": "code",
   "execution_count": 5,
   "metadata": {},
   "outputs": [],
   "source": [
    "from sklearn.model_selection import train_test_split\n",
    "\n",
    "previsores_treinamento, previsores_teste, classe_treinamento, classe_teste = train_test_split(previsores, classe, test_size=0.25, random_state=0) "
   ]
  },
  {
   "cell_type": "code",
   "execution_count": 6,
   "metadata": {},
   "outputs": [],
   "source": [
    "from sklearn.naive_bayes import GaussianNB\n",
    "\n",
    "classificador = GaussianNB(  )\n",
    "classificador.fit(previsores_treinamento, classe_treinamento)\n",
    "\n",
    "previsoes = classificador.predict(previsores_teste)"
   ]
  },
  {
   "cell_type": "code",
   "execution_count": 7,
   "metadata": {},
   "outputs": [],
   "source": [
    "from sklearn.metrics import accuracy_score, confusion_matrix\n",
    "\n",
    "accuracy = accuracy_score(classe_teste, previsoes)"
   ]
  },
  {
   "cell_type": "code",
   "execution_count": 8,
   "metadata": {},
   "outputs": [
    {
     "data": {
      "text/plain": [
       "0.7777777777777778"
      ]
     },
     "execution_count": 8,
     "metadata": {},
     "output_type": "execute_result"
    }
   ],
   "source": [
    "accuracy"
   ]
  },
  {
   "cell_type": "code",
   "execution_count": 9,
   "metadata": {},
   "outputs": [],
   "source": [
    "### Esse algorítimo foi testado com as seguintes possibilidades:\n",
    "## naive_bayer( OneHotEncoder + StandardScaler )\n",
    "## naive_bayer( OneHotEncoder )\n",
    "## naive_bayer( LabelEncoder + StandardScaler )\n",
    "## naive_bayer( LabelEncoder )"
   ]
  },
  {
   "cell_type": "code",
   "execution_count": 26,
   "metadata": {},
   "outputs": [
    {
     "name": "stdout",
     "output_type": "stream",
     "text": [
      "Linha de base da precisão: 0.6851851851851852\n"
     ]
    }
   ],
   "source": [
    "import collections\n",
    "collections.Counter(classe_teste)\n",
    "print(f'Linha de base da precisão (majority learn): {296/432}')"
   ]
  },
  {
   "cell_type": "code",
   "execution_count": 25,
   "metadata": {},
   "outputs": [],
   "source": [
    "### Conclusões:\n",
    "## A precisão máxima usando o algorítimo Naive Bayes foi de 0.777. Um resultado um tanto quanto insatisfatório.\n",
    "## Logo, conclui-se que esse algorítimo não muito indicado para resolver esse problema.\n",
    "## Ainda sim, Naive Bayes é mais preciso que o Majority Learn"
   ]
  },
  {
   "cell_type": "code",
   "execution_count": 23,
   "metadata": {},
   "outputs": [
    {
     "data": {
      "text/plain": [
       "432"
      ]
     },
     "execution_count": 23,
     "metadata": {},
     "output_type": "execute_result"
    }
   ],
   "source": []
  },
  {
   "cell_type": "code",
   "execution_count": null,
   "metadata": {},
   "outputs": [],
   "source": []
  }
 ],
 "metadata": {
  "kernelspec": {
   "display_name": "Python 3",
   "language": "python",
   "name": "python3"
  },
  "language_info": {
   "codemirror_mode": {
    "name": "ipython",
    "version": 3
   },
   "file_extension": ".py",
   "mimetype": "text/x-python",
   "name": "python",
   "nbconvert_exporter": "python",
   "pygments_lexer": "ipython3",
   "version": "3.8.3"
  }
 },
 "nbformat": 4,
 "nbformat_minor": 4
}
