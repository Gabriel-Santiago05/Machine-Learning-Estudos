{
 "cells": [
  {
   "cell_type": "code",
   "execution_count": 1,
   "metadata": {},
   "outputs": [],
   "source": [
    "### EXEMPLO DA AULA:\n",
    "### By: Gabriel Santiago\n",
    "import pandas as pd\n",
    "from sklearn.impute import SimpleImputer\n",
    "from sklearn.preprocessing import StandardScaler\n",
    "\n",
    "base = pd.read_csv('../00_datasets/credit_data.csv')"
   ]
  },
  {
   "cell_type": "code",
   "execution_count": 2,
   "metadata": {},
   "outputs": [],
   "source": [
    "media = base['age'][ base['age'] > 0 ].mean()\n",
    "base.loc[base.age < 0, 'age'] = media\n",
    "\n",
    "previsores = base.iloc[:, 1:4].values\n",
    "classe = base.iloc[:, 4]. values"
   ]
  },
  {
   "cell_type": "code",
   "execution_count": 3,
   "metadata": {},
   "outputs": [],
   "source": [
    "imputer = SimpleImputer()\n",
    "imputer = imputer.fit(previsores[:, 0:3])\n",
    "\n",
    "previsores = imputer.transform( previsores[:, 0:3] )"
   ]
  },
  {
   "cell_type": "code",
   "execution_count": 4,
   "metadata": {},
   "outputs": [],
   "source": [
    "scaler = StandardScaler()\n",
    "previsores = scaler.fit_transform(previsores)"
   ]
  },
  {
   "cell_type": "code",
   "execution_count": 5,
   "metadata": {},
   "outputs": [],
   "source": [
    "from sklearn.model_selection import train_test_split\n",
    "previsores_treinamento, previsores_teste, classe_treinamento, classe_teste = train_test_split(previsores, classe, test_size = 0.25, random_state = 0)"
   ]
  },
  {
   "cell_type": "code",
   "execution_count": 6,
   "metadata": {},
   "outputs": [],
   "source": [
    "from sklearn.naive_bayes import GaussianNB\n",
    "\n",
    "classificador = GaussianNB()\n",
    "classificador.fit(previsores_treinamento, classe_treinamento)\n",
    "\n",
    "resultado = classificador.predict( previsores_teste )\n"
   ]
  },
  {
   "cell_type": "code",
   "execution_count": 7,
   "metadata": {},
   "outputs": [],
   "source": [
    "from sklearn.metrics import confusion_matrix, accuracy_score\n",
    "\n",
    "precisao = accuracy_score(classe_teste, resultado)#checa a precisão relacianada a classe teste e resultado\n",
    "matriz= confusion_matrix(classe_teste, resultado)#mostra uma matriz onde são mostrados os erros do algorítimo e onde ele erra mais\n"
   ]
  },
  {
   "cell_type": "code",
   "execution_count": 8,
   "metadata": {},
   "outputs": [
    {
     "data": {
      "text/plain": [
       "0.938"
      ]
     },
     "execution_count": 8,
     "metadata": {},
     "output_type": "execute_result"
    }
   ],
   "source": [
    "precisao"
   ]
  },
  {
   "cell_type": "code",
   "execution_count": 9,
   "metadata": {},
   "outputs": [
    {
     "data": {
      "text/plain": [
       "array([[428,   8],\n",
       "       [ 23,  41]], dtype=int64)"
      ]
     },
     "execution_count": 9,
     "metadata": {},
     "output_type": "execute_result"
    }
   ],
   "source": [
    "##------------C1   C2\n",
    "##            0    1\n",
    "## L1-- 0  [ 428,  8 ]\n",
    "## L2-- 1  [ 23,  41 ]\n",
    "\n",
    "#aponta os erros do algorítimo, os 0's são os que não pagaram o emprésitmo e os 1's são os que pagaram.\n",
    "#LINHA 0 COLUNA 0 são os que não pagaram e o algorítimo classificou, corretamente, como NÃO PAGOU(0).\n",
    "#linha 0 COLUNA 1 são os que não pagaram e o algorítimo classificou, erroneamente, como PAGOU(1).\n",
    "\n",
    "#LINHA 1 COLUNA 0 são os que pagaram e o algorítimo, erroneamente classificou como NÃO PAGOU(0).\n",
    "#LINHA 1 COLUNA 1 são os que pagaram e o algorítmo, corretamente, classificou como PAGOU(1).\n",
    "matriz"
   ]
  },
  {
   "cell_type": "code",
   "execution_count": null,
   "metadata": {},
   "outputs": [],
   "source": []
  }
 ],
 "metadata": {
  "kernelspec": {
   "display_name": "Python 3",
   "language": "python",
   "name": "python3"
  },
  "language_info": {
   "codemirror_mode": {
    "name": "ipython",
    "version": 3
   },
   "file_extension": ".py",
   "mimetype": "text/x-python",
   "name": "python",
   "nbconvert_exporter": "python",
   "pygments_lexer": "ipython3",
   "version": "3.7.6"
  }
 },
 "nbformat": 4,
 "nbformat_minor": 4
}
