{
 "cells": [
  {
   "cell_type": "code",
   "execution_count": 1,
   "metadata": {},
   "outputs": [],
   "source": [
    "# -*- coding: utf-8 -*-\n",
    "########### Banco de dados aleatório usado para prática.\n",
    "### By: Gabriel Santiago\n",
    "### Data: 08-07-2020\n",
    "### Algorítimo: Árvore de Decisão\n",
    "### Base de dados: bakn-full// Base de cadastro dos clientes de um banco. \n",
    "### Base de dados para estudo fornecida por: archive.ics.uci.edu\n",
    "### Objetivo: baseado em um histórico de dados, predizer se um cliente irá ou não assinar um depósito a prazo.\n",
    "### Segue uma explicação sobre cada atributo do banco."
   ]
  },
  {
   "cell_type": "code",
   "execution_count": 2,
   "metadata": {},
   "outputs": [],
   "source": [
    "### Descrição do banco de dados usado:\n",
    "#Input variables:\n",
    "# bank client data:\n",
    "#1 - age (numeric)\n",
    "#2 - job : type of job (categorical: 'admin.','blue-collar','entrepreneur','housemaid','management','retired','self-employed','services','student','technician','unemployed','unknown')\n",
    "#3 - marital : marital status (categorical: 'divorced','married','single','unknown'; note: 'divorced' means divorced or widowed)\n",
    "#4 - education (categorical: 'basic.4y','basic.6y','basic.9y','high.school','illiterate','professional.course','university.degree','unknown')\n",
    "#5 - default: has credit in default? (categorical: 'no','yes','unknown')\n",
    "#6 - housing: has housing loan? (categorical: 'no','yes','unknown')\n",
    "#7 - loan: has personal loan? (categorical: 'no','yes','unknown')\n",
    "## related with the last contact of the current campaign:\n",
    "#8 - contact: contact communication type (categorical: 'cellular','telephone')\n",
    "#9 - month: last contact month of year (categorical: 'jan', 'feb', 'mar', ..., 'nov', 'dec')\n",
    "#10 - day_of_week: last contact day of the week (categorical: 'mon','tue','wed','thu','fri')\n",
    "#11 - duration: last contact duration, in seconds (numeric). Important note: this attribute highly affects the output target (e.g., if duration=0 then y='no'). Yet, the duration is not known before a call is performed. Also, after the end of the call y is obviously known. Thus, this input should only be included for benchmark purposes and should be discarded if the intention is to have a realistic predictive model.\n",
    "# other attributes:\n",
    "#12 - campaign: number of contacts performed during this campaign and for this client (numeric, includes last contact)\n",
    "#13 - pdays: number of days that passed by after the client was last contacted from a previous campaign (numeric; 999 means client was not previously contacted)\n",
    "#14 - previous: number of contacts performed before this campaign and for this client (numeric)\n",
    "#15 - poutcome: outcome of the previous marketing campaign (categorical: 'failure','nonexistent','success')\n",
    "# social and economic context attributes\n",
    "#16 - emp.var.rate: employment variation rate - quarterly indicator (numeric)\n",
    "#17 - cons.price.idx: consumer price index - monthly indicator (numeric)\n",
    "#18 - cons.conf.idx: consumer confidence index - monthly indicator (numeric)\n",
    "#19 - euribor3m: euribor 3 month rate - daily indicator (numeric)\n",
    "#20 - nr.employed: number of employees - quarterly indicator (numeric)\n",
    "\n",
    "#Output variable (desired target):\n",
    "#21 - y - has the client subscribed a term deposit? (binary: 'yes','no')"
   ]
  },
  {
   "cell_type": "code",
   "execution_count": 3,
   "metadata": {},
   "outputs": [],
   "source": [
    "import pandas as pd\n",
    "\n",
    "base = pd.read_csv('../bank-full.csv')"
   ]
  },
  {
   "cell_type": "code",
   "execution_count": 4,
   "metadata": {},
   "outputs": [],
   "source": [
    "## Separando previsores da classe:\n",
    "previsores = base.iloc[:, 0:16].values\n",
    "classe = base.iloc[:, 16].values"
   ]
  },
  {
   "cell_type": "code",
   "execution_count": 5,
   "metadata": {},
   "outputs": [],
   "source": [
    "\"\"\"\n",
    "## Aplicando o labelEncoder:\n",
    "from sklearn.preprocessing import LabelEncoder\n",
    "\n",
    "label_encoder = LabelEncoder()\n",
    "previsores[:, 1] = label_encoder.fit_transform( previsores[:, 1] )\n",
    "previsores[:, 2] = label_encoder.fit_transform( previsores[:, 2] )\n",
    "previsores[:, 3] = label_encoder.fit_transform( previsores[:, 3] )\n",
    "previsores[:, 4] = label_encoder.fit_transform( previsores[:, 4] )\n",
    "previsores[:, 6] = label_encoder.fit_transform( previsores[:, 6] )\n",
    "previsores[:, 7] = label_encoder.fit_transform( previsores[:, 7] )\n",
    "previsores[:, 8] = label_encoder.fit_transform( previsores[:, 8] )\n",
    "previsores[:, 10] = label_encoder.fit_transform( previsores[:, 10] )\n",
    "previsores[:, 15] = label_encoder.fit_transform( previsores[:, 15] )\n",
    "\"\"\"\n",
    "### Aplicando o OneHotEncoder:\n",
    "from sklearn.preprocessing import OneHotEncoder, LabelEncoder\n",
    "from sklearn.compose import ColumnTransformer\n",
    " \n",
    "onehotencorder = ColumnTransformer(transformers=[(\"OneHot\", OneHotEncoder(), [1,2,3,4,6,7,8,10,15])],remainder='passthrough')\n",
    "previsores = onehotencorder.fit_transform(previsores)"
   ]
  },
  {
   "cell_type": "code",
   "execution_count": 6,
   "metadata": {},
   "outputs": [],
   "source": [
    "# escalonamento\n",
    "#from sklearn.preprocessing import StandardScaler\n",
    "\n",
    "#scaler = StandardScaler()\n",
    "#previsores = scaler.fit_transform( previsores )"
   ]
  },
  {
   "cell_type": "code",
   "execution_count": 7,
   "metadata": {},
   "outputs": [],
   "source": [
    "## Separando as bases entre treinamento e testes:\n",
    "from sklearn.model_selection import train_test_split\n",
    "\n",
    "previsores_treinamento, previsores_teste, classe_treinamento, classe_teste = train_test_split(previsores, classe, test_size=0.15, random_state=0)"
   ]
  },
  {
   "cell_type": "code",
   "execution_count": 8,
   "metadata": {},
   "outputs": [],
   "source": [
    "## Criando a árvore de decisões:\n",
    "from sklearn.tree import DecisionTreeClassifier\n",
    "\n",
    "classificador = DecisionTreeClassifier( criterion='entropy',random_state=0 )\n",
    "classificador.fit(previsores_treinamento, classe_treinamento)\n",
    "\n",
    "previsoes = classificador.predict( previsores_teste )"
   ]
  },
  {
   "cell_type": "code",
   "execution_count": 9,
   "metadata": {},
   "outputs": [
    {
     "name": "stdout",
     "output_type": "stream",
     "text": [
      "A precisão do algorítimo foi de: 0.8798289590091418\n"
     ]
    }
   ],
   "source": [
    "## Avaliando o algorítimo:\n",
    "from sklearn.metrics import accuracy_score, confusion_matrix\n",
    "\n",
    "precisao = accuracy_score( classe_teste, previsoes )\n",
    "print(f'A precisão do algorítimo foi de: {precisao}')"
   ]
  },
  {
   "cell_type": "code",
   "execution_count": 10,
   "metadata": {},
   "outputs": [],
   "source": [
    "## Precisão sem escalonamento e com LabelEncoder: 0.8768799764081392\n",
    "## Precisão com escalonamento e com LabelEncoder: 0.8779121203184901\n",
    "## Precisão com escalonamento e com OneHotEncoder: 0.8786493659687408\n",
    "## Precisão sem escalonamento e com OneHotEncoder: 0.8798289590091418\n"
   ]
  }
 ],
 "metadata": {
  "kernelspec": {
   "display_name": "Python 3",
   "language": "python",
   "name": "python3"
  },
  "language_info": {
   "codemirror_mode": {
    "name": "ipython",
    "version": 3
   },
   "file_extension": ".py",
   "mimetype": "text/x-python",
   "name": "python",
   "nbconvert_exporter": "python",
   "pygments_lexer": "ipython3",
   "version": "3.7.6"
  }
 },
 "nbformat": 4,
 "nbformat_minor": 4
}
