{
 "cells": [
  {
   "cell_type": "code",
   "execution_count": 1,
   "metadata": {},
   "outputs": [],
   "source": [
    "# -*- coding: utf-8 -*-\n",
    "########### Banco de dados aleatório usado para prática.\n",
    "### By: Gabriel Santiago\n",
    "### Data: 03/08/2020\n",
    "### Algoritmo: KNN\n",
    "### Base de dados: car.data\n",
    "### Base de dados para estudo fornecida por: archive.ics.uci.edu\n",
    "### Objetivo: baseado em um histórico de dados, predizer o nível de aceitação de um determinado modelo de carro. \n",
    "### Você pode obter uma descrição sobre cada um dos atributos no arquivo 'descricao_car' situado na pasta 00_daatasets"
   ]
  },
  {
   "cell_type": "code",
   "execution_count": 2,
   "metadata": {},
   "outputs": [],
   "source": [
    "import pandas as pd\n",
    "\n",
    "dataset = pd.read_csv('../00_datasets/car.data')"
   ]
  },
  {
   "cell_type": "code",
   "execution_count": null,
   "metadata": {},
   "outputs": [],
   "source": []
  }
 ],
 "metadata": {
  "kernelspec": {
   "display_name": "Python 3",
   "language": "python",
   "name": "python3"
  },
  "language_info": {
   "codemirror_mode": {
    "name": "ipython",
    "version": 3
   },
   "file_extension": ".py",
   "mimetype": "text/x-python",
   "name": "python",
   "nbconvert_exporter": "python",
   "pygments_lexer": "ipython3",
   "version": "3.8.3"
  }
 },
 "nbformat": 4,
 "nbformat_minor": 4
}
