{
 "cells": [
  {
   "cell_type": "code",
   "execution_count": 1,
   "metadata": {},
   "outputs": [],
   "source": [
    "# -*- coding: utf-8 -*-\n",
    "########### Banco de dados aleatório usado para prática.\n",
    "### By: Gabriel Santiago\n",
    "### Data: 03/08/2020\n",
    "### Algoritmo: KNN\n",
    "### Base de dados: car.data\n",
    "### Base de dados para estudo fornecida por: archive.ics.uci.edu\n",
    "### Objetivo: baseado em um histórico de dados, predizer o nível de aceitação de um determinado modelo de carro. \n",
    "### Você pode obter uma descrição sobre cada um dos atributos no arquivo 'descricao_car' situado na pasta 00_daatasets"
   ]
  },
  {
   "cell_type": "code",
   "execution_count": 2,
   "metadata": {},
   "outputs": [],
   "source": [
    "import pandas as pd\n",
    "\n",
    "dataset = pd.read_csv('../00_datasets/car.data')\n",
    "##Atributos categóricos: [0, 1, 2, 3, 4, 5]"
   ]
  },
  {
   "cell_type": "code",
   "execution_count": 3,
   "metadata": {},
   "outputs": [],
   "source": [
    "previsores = dataset.iloc[:, 0:6].values\n",
    "classe = dataset.iloc[:, 6].values"
   ]
  },
  {
   "cell_type": "code",
   "execution_count": 4,
   "metadata": {},
   "outputs": [],
   "source": [
    "## LabelEncoder:\n",
    "from sklearn.preprocessing import LabelEncoder\n",
    "\n",
    "label_encoder = LabelEncoder()\n",
    "previsores[:, 0] = label_encoder.fit_transform(previsores[:, 0])\n",
    "previsores[:, 1] = label_encoder.fit_transform(previsores[:, 1])\n",
    "previsores[:, 2] = label_encoder.fit_transform(previsores[:, 2])\n",
    "previsores[:, 3] = label_encoder.fit_transform(previsores[:, 3])\n",
    "previsores[:, 4] = label_encoder.fit_transform(previsores[:, 4])\n",
    "previsores[:, 5] = label_encoder.fit_transform(previsores[:, 5])"
   ]
  },
  {
   "cell_type": "code",
   "execution_count": 5,
   "metadata": {},
   "outputs": [],
   "source": [
    "## Escalonamento (padronização):\n",
    "from sklearn.preprocessing import StandardScaler\n",
    "scaler = StandardScaler()\n",
    "\n",
    "previsores = scaler.fit_transform(previsores)"
   ]
  },
  {
   "cell_type": "code",
   "execution_count": 6,
   "metadata": {},
   "outputs": [],
   "source": [
    "## Dividindo o dataset:\n",
    "from sklearn.model_selection import train_test_split\n",
    "\n",
    "previsores_treinamento, previsores_teste, classe_treinamento, classe_teste = train_test_split( previsores, classe, test_size=0.15, random_state=0 )"
   ]
  },
  {
   "cell_type": "code",
   "execution_count": 7,
   "metadata": {},
   "outputs": [],
   "source": [
    "## KNN:\n",
    "from sklearn.neighbors import KNeighborsClassifier\n",
    "\n",
    "classificador = KNeighborsClassifier( n_neighbors=5, metric='minkowski', p=2 )\n",
    "classificador.fit(previsores_treinamento, classe_treinamento)\n",
    "previsoes = classificador.predict(previsores_teste)"
   ]
  },
  {
   "cell_type": "code",
   "execution_count": 8,
   "metadata": {},
   "outputs": [
    {
     "data": {
      "text/plain": [
       "0.9307692307692308"
      ]
     },
     "execution_count": 8,
     "metadata": {},
     "output_type": "execute_result"
    }
   ],
   "source": [
    "## Accuracy:\n",
    "from sklearn.metrics import accuracy_score\n",
    "\n",
    "accuracy = accuracy_score(classe_teste, previsoes)\n",
    "accuracy"
   ]
  }
 ],
 "metadata": {
  "kernelspec": {
   "display_name": "Python 3",
   "language": "python",
   "name": "python3"
  },
  "language_info": {
   "codemirror_mode": {
    "name": "ipython",
    "version": 3
   },
   "file_extension": ".py",
   "mimetype": "text/x-python",
   "name": "python",
   "nbconvert_exporter": "python",
   "pygments_lexer": "ipython3",
   "version": "3.8.3"
  }
 },
 "nbformat": 4,
 "nbformat_minor": 4
}
